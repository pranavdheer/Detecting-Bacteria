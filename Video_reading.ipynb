{
 "cells": [
  {
   "cell_type": "code",
   "execution_count": 10,
   "metadata": {
    "collapsed": true
   },
   "outputs": [],
   "source": [
    "import cv2\n",
    "from matplotlib import pyplot as plt\n",
    "import numpy as np\n",
    "import math\n",
    "\n"
   ]
  },
  {
   "cell_type": "code",
   "execution_count": 11,
   "metadata": {
    "collapsed": true
   },
   "outputs": [],
   "source": [
    "\n",
    "def algorithm(image):\n",
    "    \n",
    "    image_resize=cv2.resize(image,(400,400))\n",
    "    image_rgb = cv2.cvtColor(image, cv2.COLOR_BGR2RGB)\n",
    "    image_rgb_resize=cv2.resize(image_rgb,(400,400))\n",
    "    image_hsv=cv2.cvtColor(image,cv2.COLOR_BGR2HSV)\n",
    "    image_gray=cv2.cvtColor(image,cv2.COLOR_BGR2GRAY)\n",
    "    lower=np.asarray([70,0,0])\n",
    "    upper=np.asarray([255,255,180])\n",
    "    mask=cv2.inRange(image_rgb_resize,lower,upper)\n",
    "    output = cv2.bitwise_and(image_resize, image_resize, mask = mask)\n",
    "#     closing_Re=cv2.resize(output,(400,400));\n",
    "    closing_Re= image_resize  ###Invalid variable name \n",
    "    copy_closing1=closing_Re.copy();\n",
    "    copy_closing2=closing_Re.copy();\n",
    "    gray_output= cv2.cvtColor(closing_Re, cv2.COLOR_BGR2GRAY)\n",
    "    gray_output=cv2.resize(gray_output,(400,400))\n",
    "    \n",
    "    kernel = np.ones((14,14),np.uint8)   #Earlier 13, 13\n",
    "    opening2 = cv2.morphologyEx(gray_output, cv2.MORPH_OPEN, kernel)\n",
    "    \n",
    "    ret,thresh1 = cv2.threshold(opening2,30,255,cv2.THRESH_BINARY)\n",
    "\n",
    "    [_,contours, heir]=cv2.findContours(thresh1.copy(), cv2.RETR_TREE, cv2.CHAIN_APPROX_SIMPLE)\n",
    "    cv2.drawContours(copy_closing1, contours, -1, (0,255,0), 1)\n",
    "#     cv2.imshow('grayscale',gray_output)\n",
    "#     cv2.imshow('Binary_image',thresh1)\n",
    "#     cv2.imshow('opening_image',opening2)\n",
    "#     cv2.imshow('contours',copy_closing1)\n",
    "#     cv2.waitKey(0)\n",
    "#     print \"Expected ratio = \",4*math.pi; \n",
    "    Expected_ratio= 4*math.pi\n",
    "    circular=[]\n",
    "    radius1=[]\n",
    "    for cnt in contours:\n",
    "      area = cv2.contourArea(cnt)\n",
    "      perimeter = cv2.arcLength(cnt,True)\n",
    "      rad=perimeter/(2*(math.pi+1e-4))\n",
    "      ratio=(perimeter**2)/(area+1e-4)\n",
    "#       print Expected_ratio-ratio, rad\n",
    "      if rad>2.5 and rad<30:\n",
    "        radius1.append(rad)\n",
    "        circular.append(cnt) \n",
    "        \n",
    "    cv2.drawContours(image_resize, circular, -1, (0,255,0), 1)\n",
    "\n",
    "    image_resize=cv2.resize(image_resize,(1440,1080))\n",
    "    font = cv2.FONT_HERSHEY_SIMPLEX\n",
    "    stri='bacteria = '+str(len(circular))\n",
    "    cv2.putText(image_resize,stri,(700,500), font, 2,(255,255,255),2,cv2.LINE_AA)\n",
    "#     font = cv2.FONT_HERSHEY_SIMPLEX\n",
    "#     cv2.putText(image_resize,'OpenCV',(10,500), font, 4,(255,255,255),2,cv2.LINE_AA)\n",
    "    return image_resize\n",
    "    \n",
    "\n"
   ]
  },
  {
   "cell_type": "code",
   "execution_count": 12,
   "metadata": {},
   "outputs": [
    {
     "name": "stdout",
     "output_type": "stream",
     "text": [
      "1440 * 1080\n"
     ]
    }
   ],
   "source": [
    "cap = cv2.VideoCapture('./Bacteria Expts Videos/Bisleri water 5mW 03082017.MTS')\n",
    "\n",
    "# frame_width = int( cap.get(cv2.CAP_PROP_FRAME_WIDTH))\n",
    "\n",
    "# frame_height =int( cap.get( cv2.CAP_PROP_FRAME_HEIGHT))\n",
    "\n",
    "# print frame_height , frame_width\n",
    "\n",
    "# fourcc = cv2.VideoWriter_fourcc(*'XVID')\n",
    "\n",
    "# vid = cv2.VideoWriter('output.avi', fourcc, 24, (frame_height, frame_width))\n",
    "\n",
    "frame_width = int(cap.get(3))         \n",
    "frame_height = int(cap.get(4))\n",
    "print frame_width, '*' ,frame_height\n",
    "\n",
    "frame_rate=25;\n",
    "vid = cv2.VideoWriter('output_written_text2.mp4',cv2.VideoWriter_fourcc('M','J','P','G'), frame_rate, (frame_width,frame_height))\n",
    "\n",
    "frame_count=0\n",
    "\n",
    "while(cap.isOpened()):\n",
    "#     print frame_count\n",
    "    ret, frame = cap.read()\n",
    "    if ret==False:\n",
    "        break;\n",
    "    frame_count=frame_count+1\n",
    "    (dimensions_x,dimensions_y,z)=frame.shape \n",
    "    processed_frame=algorithm(frame)\n",
    "    vid.write(processed_frame)\n",
    "    \n",
    "    \n",
    "cap.release()\n",
    "vid.release()   "
   ]
  },
  {
   "cell_type": "code",
   "execution_count": null,
   "metadata": {},
   "outputs": [],
   "source": []
  }
 ],
 "metadata": {
  "kernelspec": {
   "display_name": "Python 2",
   "language": "python",
   "name": "python2"
  },
  "language_info": {
   "codemirror_mode": {
    "name": "ipython",
    "version": 2
   },
   "file_extension": ".py",
   "mimetype": "text/x-python",
   "name": "python",
   "nbconvert_exporter": "python",
   "pygments_lexer": "ipython2",
   "version": "2.7.13"
  }
 },
 "nbformat": 4,
 "nbformat_minor": 2
}
