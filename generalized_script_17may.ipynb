{
 "cells": [
  {
   "cell_type": "markdown",
   "metadata": {},
   "source": [
    "### Making a Generalized script that can check the robustness of the code on all the images\n"
   ]
  },
  {
   "cell_type": "code",
   "execution_count": 1,
   "metadata": {
    "collapsed": true
   },
   "outputs": [],
   "source": [
    "import cv2\n",
    "from matplotlib import pyplot as plt\n",
    "import numpy as np\n",
    "import math"
   ]
  },
  {
   "cell_type": "code",
   "execution_count": 2,
   "metadata": {
    "collapsed": true
   },
   "outputs": [],
   "source": [
    "def robustness():\n",
    "  for ix in range (1,16):  \n",
    "    image=cv2.imread('./Photos/image_test'+str(ix)+'.png')\n",
    "    print ('./Photos/image_test'+str(ix)+'.png')\n",
    "    image_resize=cv2.resize(image,(400,400))\n",
    "    image_rgb = cv2.cvtColor(image, cv2.COLOR_BGR2RGB)\n",
    "    image_rgb_resize=cv2.resize(image_rgb,(400,400))\n",
    "    image_hsv=cv2.cvtColor(image,cv2.COLOR_BGR2HSV)\n",
    "    image_gray=cv2.cvtColor(image,cv2.COLOR_BGR2GRAY)\n",
    "    lower=np.asarray([70,0,0])\n",
    "    upper=np.asarray([255,255,180])\n",
    "    mask=cv2.inRange(image_rgb_resize,lower,upper)\n",
    "    output = cv2.bitwise_and(image_resize, image_resize, mask = mask)\n",
    "    \n",
    "    \n",
    "    closing_Re=cv2.resize(output,(400,400));\n",
    "    closing_Re=image_resize\n",
    "    copy_closing1=closing_Re.copy();\n",
    "    copy_closing2=closing_Re.copy();\n",
    "    gray_output= cv2.cvtColor(closing_Re, cv2.COLOR_BGR2GRAY)\n",
    "    gray_output=cv2.resize(gray_output,(400,400))\n",
    "    \n",
    "    kernel = np.ones((14,14),np.uint8)   #Earlier 13, 13\n",
    "    opening2 = cv2.morphologyEx(gray_output, cv2.MORPH_OPEN, kernel)\n",
    "    \n",
    "    ret,thresh1 = cv2.threshold(opening2,30,255,cv2.THRESH_BINARY)\n",
    "\n",
    "    [_,contours, heir]=cv2.findContours(thresh1.copy(), cv2.RETR_TREE, cv2.CHAIN_APPROX_SIMPLE)\n",
    "    cv2.drawContours(copy_closing1, contours, -1, (0,255,0), 1)\n",
    "#     cv2.imshow('grayscale',gray_output)\n",
    "#     cv2.imshow('Binary_image',thresh1)\n",
    "#     cv2.imshow('opening_image',opening2)\n",
    "#     cv2.imshow('contours',copy_closing1)\n",
    "#     cv2.waitKey(0)\n",
    "    print \"Expected ratio = \",4*math.pi; \n",
    "    Expected_ratio= 4*math.pi\n",
    "    circular=[]\n",
    "    radius1=[]\n",
    "    for cnt in contours:\n",
    "      area = cv2.contourArea(cnt)\n",
    "      perimeter = cv2.arcLength(cnt,True)\n",
    "      rad=perimeter/(2*(math.pi+1e-4))\n",
    "      ratio=(perimeter**2)/(area+1e-4)\n",
    "      print Expected_ratio-ratio, rad\n",
    "      if rad>2.5 and rad<30:\n",
    "        radius1.append(rad)\n",
    "        circular.append(cnt)\n",
    "        \n",
    "    cv2.drawContours(copy_closing2, circular, -1, (0,255,0), 1)\n",
    "    cv2.imshow('image_test '+str(ix),copy_closing2)\n",
    "    cv2.waitKey(0)  \n",
    "    \n"
   ]
  },
  {
   "cell_type": "code",
   "execution_count": 3,
   "metadata": {},
   "outputs": [
    {
     "name": "stdout",
     "output_type": "stream",
     "text": [
      "./Photos/image_test1.png\n",
      "Expected ratio =  12.5663706144\n",
      "-17.1076424666 268.236874115\n",
      "-7.1524647375 5.02218905529\n",
      "./Photos/image_test2.png\n",
      "Expected ratio =  12.5663706144\n",
      "-14.1060857697 253.215548493\n",
      "-2.66886364639 3.4306902454\n",
      "-2.09011685231 1.21858739809\n",
      "-3.43282887801 0.900287643703\n",
      "./Photos/image_test3.png\n",
      "Expected ratio =  12.5663706144\n",
      "-15.0447894308 253.099699953\n",
      "./Photos/image_test4.png\n",
      "Expected ratio =  12.5663706144\n",
      "-11.2470135096 175.105753773\n",
      "-7.4167126582 3.26022999188\n",
      "./Photos/image_test5.png\n",
      "Expected ratio =  12.5663706144\n",
      "-12.466207454 181.680825376\n",
      "-9.4413971902 4.57204523344\n",
      "./Photos/image_test6.png\n",
      "Expected ratio =  12.5663706144\n",
      "-13.0686978798 183.272324167\n",
      "-6.84530987776 3.71037381373\n",
      "-1.85328795617 1.7619590634\n",
      "-2.09011685231 1.21858739809\n",
      "./Photos/image_test7.png\n",
      "Expected ratio =  12.5663706144\n",
      "-13.8466251202 187.371604807\n",
      "-5.19636996804 3.07377430496\n",
      "-3.43282887801 0.900287643703\n",
      "./Photos/image_test8.png\n",
      "Expected ratio =  12.5663706144\n",
      "-15.9405808592 191.097973883\n",
      "-14.5425293283 5.43371665314\n",
      "./Photos/image_test9.png\n",
      "Expected ratio =  12.5663706144\n",
      "-15.0577963449 189.056331327\n",
      "-5.3355398944 4.6652730769\n",
      "-21.0725360114 10.1536013495\n",
      "./Photos/image_test10.png\n",
      "Expected ratio =  12.5663706144\n",
      "-14.4786921509 190.763678828\n",
      "-3.32687698465 4.16051761661\n",
      "-26.9448611113 9.92852943857\n",
      "./Photos/image_test11.png\n",
      "Expected ratio =  12.5663706144\n",
      "-14.350412836 186.766996051\n",
      "-8.95598878086 9.55561806472\n",
      "-21.1753874391 15.9988456005\n",
      "./Photos/image_test12.png\n",
      "Expected ratio =  12.5663706144\n",
      "-9.95126146175 9.77406454256\n",
      "-27.3788069099 218.469008383\n",
      "./Photos/image_test13.png\n",
      "Expected ratio =  12.5663706144\n",
      "-14.6893265047 196.509069765\n",
      "-18.1468642683 19.0499990769\n",
      "-3.43282887801 0.900287643703\n",
      "-4.41869816439 1.85518690687\n",
      "./Photos/image_test14.png\n",
      "Expected ratio =  12.5663706144\n",
      "-17.0405688523 199.100709381\n",
      "./Photos/image_test15.png\n",
      "Expected ratio =  12.5663706144\n",
      "-15.4452275615 207.228663703\n",
      "-19.4727807451 8.05734713624\n",
      "-3.02169824172 1.98703097433\n"
     ]
    }
   ],
   "source": [
    "robustness()"
   ]
  },
  {
   "cell_type": "code",
   "execution_count": null,
   "metadata": {},
   "outputs": [],
   "source": []
  },
  {
   "cell_type": "code",
   "execution_count": 10,
   "metadata": {},
   "outputs": [],
   "source": [
    "import graphviz \n",
    "from sklearn import tree\n",
    "import pydotplus\n",
    "from sklearn.externals.six import StringIO\n",
    "\n",
    "dot_data = tree.export_graphviz(clf, out_file=None, feature_names=['x','y'],  class_names=['1' ,'2' ,'3' ,'4', '5', '6' ,'7', '8', '9' ,'10' ,'11'] , filled=True, rounded=True,  special_characters=True)  \n",
    "\n",
    "graph=pydotplus.graph_from_dot_data(dot_data)\n"
   ]
  },
  {
   "cell_type": "code",
   "execution_count": 11,
   "metadata": {},
   "outputs": [
    {
     "data": {
      "text/plain": [
       "True"
      ]
     },
     "execution_count": 11,
     "metadata": {},
     "output_type": "execute_result"
    }
   ],
   "source": [
    "graph.write_pdf(\"TREEEEE.pdf\")"
   ]
  },
  {
   "cell_type": "code",
   "execution_count": null,
   "metadata": {
    "collapsed": true
   },
   "outputs": [],
   "source": []
  }
 ],
 "metadata": {
  "kernelspec": {
   "display_name": "Python 2",
   "language": "python",
   "name": "python2"
  },
  "language_info": {
   "codemirror_mode": {
    "name": "ipython",
    "version": 2
   },
   "file_extension": ".py",
   "mimetype": "text/x-python",
   "name": "python",
   "nbconvert_exporter": "python",
   "pygments_lexer": "ipython2",
   "version": "2.7.13"
  }
 },
 "nbformat": 4,
 "nbformat_minor": 2
}
